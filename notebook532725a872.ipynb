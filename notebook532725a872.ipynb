{
 "cells": [
  {
   "cell_type": "code",
   "execution_count": 1,
   "id": "2c277b1d",
   "metadata": {
    "_cell_guid": "b1076dfc-b9ad-4769-8c92-a6c4dae69d19",
    "_uuid": "8f2839f25d086af736a60e9eeb907d3b93b6e0e5",
    "execution": {
     "iopub.execute_input": "2024-11-05T05:06:20.307612Z",
     "iopub.status.busy": "2024-11-05T05:06:20.307174Z",
     "iopub.status.idle": "2024-11-05T05:06:21.203960Z",
     "shell.execute_reply": "2024-11-05T05:06:21.202793Z"
    },
    "papermill": {
     "duration": 0.908027,
     "end_time": "2024-11-05T05:06:21.206774",
     "exception": false,
     "start_time": "2024-11-05T05:06:20.298747",
     "status": "completed"
    },
    "tags": []
   },
   "outputs": [
    {
     "name": "stdout",
     "output_type": "stream",
     "text": [
      "/kaggle/input/salary-data1-csv/Salary_Data (1).csv\n"
     ]
    }
   ],
   "source": [
    "# This Python 3 environment comes with many helpful analytics libraries installed\n",
    "# It is defined by the kaggle/python Docker image: https://github.com/kaggle/docker-python\n",
    "# For example, here's several helpful packages to load\n",
    "\n",
    "import numpy as np # linear algebra\n",
    "import pandas as pd # data processing, CSV file I/O (e.g. pd.read_csv)\n",
    "\n",
    "# Input data files are available in the read-only \"../input/\" directory\n",
    "# For example, running this (by clicking run or pressing Shift+Enter) will list all files under the input directory\n",
    "\n",
    "import os\n",
    "for dirname, _, filenames in os.walk('/kaggle/input'):\n",
    "    for filename in filenames:\n",
    "        print(os.path.join(dirname, filename))\n",
    "\n",
    "# You can write up to 20GB to the current directory (/kaggle/working/) that gets preserved as output when you create a version using \"Save & Run All\" \n",
    "# You can also write temporary files to /kaggle/temp/, but they won't be saved outside of the current session"
   ]
  },
  {
   "cell_type": "code",
   "execution_count": 2,
   "id": "98492d1a",
   "metadata": {
    "execution": {
     "iopub.execute_input": "2024-11-05T05:06:21.219963Z",
     "iopub.status.busy": "2024-11-05T05:06:21.219373Z",
     "iopub.status.idle": "2024-11-05T05:06:22.772172Z",
     "shell.execute_reply": "2024-11-05T05:06:22.770950Z"
    },
    "papermill": {
     "duration": 1.562346,
     "end_time": "2024-11-05T05:06:22.774931",
     "exception": false,
     "start_time": "2024-11-05T05:06:21.212585",
     "status": "completed"
    },
    "tags": []
   },
   "outputs": [],
   "source": [
    "import pandas as pd\n",
    "import numpy as np\n",
    "from sklearn.model_selection import train_test_split\n",
    "from sklearn.linear_model import LinearRegression\n",
    "from sklearn.metrics import mean_absolute_error\n",
    "import matplotlib.pyplot as plt\n"
   ]
  },
  {
   "cell_type": "code",
   "execution_count": 3,
   "id": "7f606621",
   "metadata": {
    "execution": {
     "iopub.execute_input": "2024-11-05T05:06:22.788277Z",
     "iopub.status.busy": "2024-11-05T05:06:22.787651Z",
     "iopub.status.idle": "2024-11-05T05:06:22.816770Z",
     "shell.execute_reply": "2024-11-05T05:06:22.815518Z"
    },
    "papermill": {
     "duration": 0.038959,
     "end_time": "2024-11-05T05:06:22.819565",
     "exception": false,
     "start_time": "2024-11-05T05:06:22.780606",
     "status": "completed"
    },
    "tags": []
   },
   "outputs": [
    {
     "name": "stdout",
     "output_type": "stream",
     "text": [
      "First few rows of the dataset:\n",
      "   YearsExperience  Salary\n",
      "0              1.1   39343\n",
      "1              1.3   46205\n",
      "2              1.5   37731\n",
      "3              2.0   43525\n",
      "4              2.2   39891\n"
     ]
    }
   ],
   "source": [
    "df = pd.read_csv('/kaggle/input/salary-data1-csv/Salary_Data (1).csv')\n",
    "print(\"First few rows of the dataset:\")\n",
    "print(df.head())\n"
   ]
  },
  {
   "cell_type": "code",
   "execution_count": 4,
   "id": "f77a60e6",
   "metadata": {
    "execution": {
     "iopub.execute_input": "2024-11-05T05:06:22.832621Z",
     "iopub.status.busy": "2024-11-05T05:06:22.832170Z",
     "iopub.status.idle": "2024-11-05T05:06:22.841234Z",
     "shell.execute_reply": "2024-11-05T05:06:22.840152Z"
    },
    "papermill": {
     "duration": 0.01903,
     "end_time": "2024-11-05T05:06:22.844243",
     "exception": false,
     "start_time": "2024-11-05T05:06:22.825213",
     "status": "completed"
    },
    "tags": []
   },
   "outputs": [
    {
     "name": "stdout",
     "output_type": "stream",
     "text": [
      "    YearsExperience  Salary\n",
      "0               1.1   39343\n",
      "1               1.3   46205\n",
      "2               1.5   37731\n",
      "3               2.0   43525\n",
      "4               2.2   39891\n",
      "5               2.9   56642\n",
      "6               3.0   60150\n",
      "7               3.2   54445\n",
      "8               3.2   64445\n",
      "9               3.7   57189\n",
      "10              3.9   63218\n",
      "11              4.0   55794\n",
      "12              4.0   56957\n",
      "13              4.1   57081\n",
      "14              4.5   61111\n",
      "15              4.9   67938\n",
      "16              5.1   66029\n",
      "17              5.3   83088\n",
      "18              5.9   81363\n",
      "19              6.0   93940\n",
      "20              6.8   91738\n",
      "21              7.1   98273\n",
      "22              7.9  101302\n",
      "23              8.2  113812\n",
      "24              8.7  109431\n",
      "25              9.0  105582\n",
      "26              9.5  116969\n",
      "27              9.6  112635\n",
      "28             10.3  122391\n",
      "29             10.5  121872\n"
     ]
    }
   ],
   "source": [
    "df=df.fillna(0)\n",
    "print(df)"
   ]
  },
  {
   "cell_type": "code",
   "execution_count": 5,
   "id": "73c7fa01",
   "metadata": {
    "execution": {
     "iopub.execute_input": "2024-11-05T05:06:22.858002Z",
     "iopub.status.busy": "2024-11-05T05:06:22.856961Z",
     "iopub.status.idle": "2024-11-05T05:06:22.863280Z",
     "shell.execute_reply": "2024-11-05T05:06:22.862227Z"
    },
    "papermill": {
     "duration": 0.016461,
     "end_time": "2024-11-05T05:06:22.866293",
     "exception": false,
     "start_time": "2024-11-05T05:06:22.849832",
     "status": "completed"
    },
    "tags": []
   },
   "outputs": [
    {
     "name": "stdout",
     "output_type": "stream",
     "text": [
      "0      39343\n",
      "1      46205\n",
      "2      37731\n",
      "3      43525\n",
      "4      39891\n",
      "5      56642\n",
      "6      60150\n",
      "7      54445\n",
      "8      64445\n",
      "9      57189\n",
      "10     63218\n",
      "11     55794\n",
      "12     56957\n",
      "13     57081\n",
      "14     61111\n",
      "15     67938\n",
      "16     66029\n",
      "17     83088\n",
      "18     81363\n",
      "19     93940\n",
      "20     91738\n",
      "21     98273\n",
      "22    101302\n",
      "23    113812\n",
      "24    109431\n",
      "25    105582\n",
      "26    116969\n",
      "27    112635\n",
      "28    122391\n",
      "29    121872\n",
      "Name: Salary, dtype: int64\n"
     ]
    }
   ],
   "source": [
    "target=df['Salary']\n",
    "print(target)"
   ]
  },
  {
   "cell_type": "code",
   "execution_count": 6,
   "id": "7e1078df",
   "metadata": {
    "execution": {
     "iopub.execute_input": "2024-11-05T05:06:22.879944Z",
     "iopub.status.busy": "2024-11-05T05:06:22.879189Z",
     "iopub.status.idle": "2024-11-05T05:06:22.892380Z",
     "shell.execute_reply": "2024-11-05T05:06:22.891279Z"
    },
    "papermill": {
     "duration": 0.022662,
     "end_time": "2024-11-05T05:06:22.894817",
     "exception": false,
     "start_time": "2024-11-05T05:06:22.872155",
     "status": "completed"
    },
    "tags": []
   },
   "outputs": [
    {
     "name": "stdout",
     "output_type": "stream",
     "text": [
      "    YearsExperience\n",
      "0               1.1\n",
      "1               1.3\n",
      "2               1.5\n",
      "3               2.0\n",
      "4               2.2\n",
      "5               2.9\n",
      "6               3.0\n",
      "7               3.2\n",
      "8               3.2\n",
      "9               3.7\n",
      "10              3.9\n",
      "11              4.0\n",
      "12              4.0\n",
      "13              4.1\n",
      "14              4.5\n",
      "15              4.9\n",
      "16              5.1\n",
      "17              5.3\n",
      "18              5.9\n",
      "19              6.0\n",
      "20              6.8\n",
      "21              7.1\n",
      "22              7.9\n",
      "23              8.2\n",
      "24              8.7\n",
      "25              9.0\n",
      "26              9.5\n",
      "27              9.6\n",
      "28             10.3\n",
      "29             10.5\n"
     ]
    }
   ],
   "source": [
    "feature=df.drop('Salary',axis=1)\n",
    "print(feature)"
   ]
  },
  {
   "cell_type": "code",
   "execution_count": 7,
   "id": "f02f9f0e",
   "metadata": {
    "execution": {
     "iopub.execute_input": "2024-11-05T05:06:22.908819Z",
     "iopub.status.busy": "2024-11-05T05:06:22.907855Z",
     "iopub.status.idle": "2024-11-05T05:06:22.917897Z",
     "shell.execute_reply": "2024-11-05T05:06:22.916775Z"
    },
    "papermill": {
     "duration": 0.019616,
     "end_time": "2024-11-05T05:06:22.920278",
     "exception": false,
     "start_time": "2024-11-05T05:06:22.900662",
     "status": "completed"
    },
    "tags": []
   },
   "outputs": [],
   "source": [
    "feature_train, feature_test, target_train, target_test = train_test_split(feature, target, test_size=0.2, random_state=42)"
   ]
  },
  {
   "cell_type": "code",
   "execution_count": 8,
   "id": "d0525ffe",
   "metadata": {
    "execution": {
     "iopub.execute_input": "2024-11-05T05:06:22.934090Z",
     "iopub.status.busy": "2024-11-05T05:06:22.933350Z",
     "iopub.status.idle": "2024-11-05T05:06:22.957245Z",
     "shell.execute_reply": "2024-11-05T05:06:22.956035Z"
    },
    "papermill": {
     "duration": 0.033678,
     "end_time": "2024-11-05T05:06:22.959867",
     "exception": false,
     "start_time": "2024-11-05T05:06:22.926189",
     "status": "completed"
    },
    "tags": []
   },
   "outputs": [
    {
     "data": {
      "text/html": [
       "<style>#sk-container-id-1 {color: black;background-color: white;}#sk-container-id-1 pre{padding: 0;}#sk-container-id-1 div.sk-toggleable {background-color: white;}#sk-container-id-1 label.sk-toggleable__label {cursor: pointer;display: block;width: 100%;margin-bottom: 0;padding: 0.3em;box-sizing: border-box;text-align: center;}#sk-container-id-1 label.sk-toggleable__label-arrow:before {content: \"▸\";float: left;margin-right: 0.25em;color: #696969;}#sk-container-id-1 label.sk-toggleable__label-arrow:hover:before {color: black;}#sk-container-id-1 div.sk-estimator:hover label.sk-toggleable__label-arrow:before {color: black;}#sk-container-id-1 div.sk-toggleable__content {max-height: 0;max-width: 0;overflow: hidden;text-align: left;background-color: #f0f8ff;}#sk-container-id-1 div.sk-toggleable__content pre {margin: 0.2em;color: black;border-radius: 0.25em;background-color: #f0f8ff;}#sk-container-id-1 input.sk-toggleable__control:checked~div.sk-toggleable__content {max-height: 200px;max-width: 100%;overflow: auto;}#sk-container-id-1 input.sk-toggleable__control:checked~label.sk-toggleable__label-arrow:before {content: \"▾\";}#sk-container-id-1 div.sk-estimator input.sk-toggleable__control:checked~label.sk-toggleable__label {background-color: #d4ebff;}#sk-container-id-1 div.sk-label input.sk-toggleable__control:checked~label.sk-toggleable__label {background-color: #d4ebff;}#sk-container-id-1 input.sk-hidden--visually {border: 0;clip: rect(1px 1px 1px 1px);clip: rect(1px, 1px, 1px, 1px);height: 1px;margin: -1px;overflow: hidden;padding: 0;position: absolute;width: 1px;}#sk-container-id-1 div.sk-estimator {font-family: monospace;background-color: #f0f8ff;border: 1px dotted black;border-radius: 0.25em;box-sizing: border-box;margin-bottom: 0.5em;}#sk-container-id-1 div.sk-estimator:hover {background-color: #d4ebff;}#sk-container-id-1 div.sk-parallel-item::after {content: \"\";width: 100%;border-bottom: 1px solid gray;flex-grow: 1;}#sk-container-id-1 div.sk-label:hover label.sk-toggleable__label {background-color: #d4ebff;}#sk-container-id-1 div.sk-serial::before {content: \"\";position: absolute;border-left: 1px solid gray;box-sizing: border-box;top: 0;bottom: 0;left: 50%;z-index: 0;}#sk-container-id-1 div.sk-serial {display: flex;flex-direction: column;align-items: center;background-color: white;padding-right: 0.2em;padding-left: 0.2em;position: relative;}#sk-container-id-1 div.sk-item {position: relative;z-index: 1;}#sk-container-id-1 div.sk-parallel {display: flex;align-items: stretch;justify-content: center;background-color: white;position: relative;}#sk-container-id-1 div.sk-item::before, #sk-container-id-1 div.sk-parallel-item::before {content: \"\";position: absolute;border-left: 1px solid gray;box-sizing: border-box;top: 0;bottom: 0;left: 50%;z-index: -1;}#sk-container-id-1 div.sk-parallel-item {display: flex;flex-direction: column;z-index: 1;position: relative;background-color: white;}#sk-container-id-1 div.sk-parallel-item:first-child::after {align-self: flex-end;width: 50%;}#sk-container-id-1 div.sk-parallel-item:last-child::after {align-self: flex-start;width: 50%;}#sk-container-id-1 div.sk-parallel-item:only-child::after {width: 0;}#sk-container-id-1 div.sk-dashed-wrapped {border: 1px dashed gray;margin: 0 0.4em 0.5em 0.4em;box-sizing: border-box;padding-bottom: 0.4em;background-color: white;}#sk-container-id-1 div.sk-label label {font-family: monospace;font-weight: bold;display: inline-block;line-height: 1.2em;}#sk-container-id-1 div.sk-label-container {text-align: center;}#sk-container-id-1 div.sk-container {/* jupyter's `normalize.less` sets `[hidden] { display: none; }` but bootstrap.min.css set `[hidden] { display: none !important; }` so we also need the `!important` here to be able to override the default hidden behavior on the sphinx rendered scikit-learn.org. See: https://github.com/scikit-learn/scikit-learn/issues/21755 */display: inline-block !important;position: relative;}#sk-container-id-1 div.sk-text-repr-fallback {display: none;}</style><div id=\"sk-container-id-1\" class=\"sk-top-container\"><div class=\"sk-text-repr-fallback\"><pre>LinearRegression()</pre><b>In a Jupyter environment, please rerun this cell to show the HTML representation or trust the notebook. <br />On GitHub, the HTML representation is unable to render, please try loading this page with nbviewer.org.</b></div><div class=\"sk-container\" hidden><div class=\"sk-item\"><div class=\"sk-estimator sk-toggleable\"><input class=\"sk-toggleable__control sk-hidden--visually\" id=\"sk-estimator-id-1\" type=\"checkbox\" checked><label for=\"sk-estimator-id-1\" class=\"sk-toggleable__label sk-toggleable__label-arrow\">LinearRegression</label><div class=\"sk-toggleable__content\"><pre>LinearRegression()</pre></div></div></div></div></div>"
      ],
      "text/plain": [
       "LinearRegression()"
      ]
     },
     "execution_count": 8,
     "metadata": {},
     "output_type": "execute_result"
    }
   ],
   "source": [
    "model = LinearRegression()\n",
    "model.fit(feature_train, target_train)\n"
   ]
  },
  {
   "cell_type": "code",
   "execution_count": 9,
   "id": "e39058c5",
   "metadata": {
    "execution": {
     "iopub.execute_input": "2024-11-05T05:06:22.974185Z",
     "iopub.status.busy": "2024-11-05T05:06:22.973725Z",
     "iopub.status.idle": "2024-11-05T05:06:22.981660Z",
     "shell.execute_reply": "2024-11-05T05:06:22.980289Z"
    },
    "papermill": {
     "duration": 0.017856,
     "end_time": "2024-11-05T05:06:22.984021",
     "exception": false,
     "start_time": "2024-11-05T05:06:22.966165",
     "status": "completed"
    },
    "tags": []
   },
   "outputs": [
    {
     "name": "stdout",
     "output_type": "stream",
     "text": [
      "[115790.21011287  71498.27809463 102596.86866063  75267.80422384\n",
      "  55477.79204548  60189.69970699]\n"
     ]
    }
   ],
   "source": [
    "target_pred = model.predict(feature_test)\n",
    "print(target_pred)"
   ]
  },
  {
   "cell_type": "code",
   "execution_count": 10,
   "id": "ddfd33cf",
   "metadata": {
    "execution": {
     "iopub.execute_input": "2024-11-05T05:06:22.999284Z",
     "iopub.status.busy": "2024-11-05T05:06:22.998548Z",
     "iopub.status.idle": "2024-11-05T05:06:23.005445Z",
     "shell.execute_reply": "2024-11-05T05:06:23.004325Z"
    },
    "papermill": {
     "duration": 0.017616,
     "end_time": "2024-11-05T05:06:23.007843",
     "exception": false,
     "start_time": "2024-11-05T05:06:22.990227",
     "status": "completed"
    },
    "tags": []
   },
   "outputs": [
    {
     "name": "stdout",
     "output_type": "stream",
     "text": [
      "6286.453830757749\n"
     ]
    }
   ],
   "source": [
    "mae = mean_absolute_error(target_test, target_pred)\n",
    "print(mae)\n"
   ]
  },
  {
   "cell_type": "code",
   "execution_count": 11,
   "id": "a965b9f3",
   "metadata": {
    "execution": {
     "iopub.execute_input": "2024-11-05T05:06:23.022806Z",
     "iopub.status.busy": "2024-11-05T05:06:23.022367Z",
     "iopub.status.idle": "2024-11-05T05:06:23.423879Z",
     "shell.execute_reply": "2024-11-05T05:06:23.422795Z"
    },
    "papermill": {
     "duration": 0.412185,
     "end_time": "2024-11-05T05:06:23.426453",
     "exception": false,
     "start_time": "2024-11-05T05:06:23.014268",
     "status": "completed"
    },
    "tags": []
   },
   "outputs": [
    {
     "data": {
      "image/png": "[encoded data removed]",
      "text/plain": [
       "<Figure size 1000x600 with 1 Axes>"
      ]
     },
     "metadata": {},
     "output_type": "display_data"
    }
   ],
   "source": [
    "plt.figure(figsize=(10, 6))\n",
    "plt.scatter(feature_test, target_test, color='blue', label='Actual')\n",
    "plt.plot(feature_test, target_pred, color='red', label='Predicted')\n",
    "plt.xlabel('Years of Experience')\n",
    "plt.ylabel('Salary')\n",
    "plt.title('Actual vs Predicted Salaries')\n",
    "plt.legend()\n",
    "plt.show()\n"
   ]
  },
  {
   "cell_type": "code",
   "execution_count": 12,
   "id": "551cf6cd",
   "metadata": {
    "execution": {
     "iopub.execute_input": "2024-11-05T05:06:23.442644Z",
     "iopub.status.busy": "2024-11-05T05:06:23.441885Z",
     "iopub.status.idle": "2024-11-05T05:06:23.450206Z",
     "shell.execute_reply": "2024-11-05T05:06:23.449237Z"
    },
    "papermill": {
     "duration": 0.019276,
     "end_time": "2024-11-05T05:06:23.452728",
     "exception": false,
     "start_time": "2024-11-05T05:06:23.433452",
     "status": "completed"
    },
    "tags": []
   },
   "outputs": [],
   "source": [
    "output = pd.DataFrame({'Actual': target_test, 'Predicted': target_pred})\n",
    "output.to_csv(\"submission.csv\", index=False)\n",
    "\n"
   ]
  },
  {
   "cell_type": "code",
   "execution_count": 13,
   "id": "87cda53d",
   "metadata": {
    "execution": {
     "iopub.execute_input": "2024-11-05T05:06:23.469828Z",
     "iopub.status.busy": "2024-11-05T05:06:23.468800Z",
     "iopub.status.idle": "2024-11-05T05:06:23.476572Z",
     "shell.execute_reply": "2024-11-05T05:06:23.475473Z"
    },
    "papermill": {
     "duration": 0.01954,
     "end_time": "2024-11-05T05:06:23.479589",
     "exception": false,
     "start_time": "2024-11-05T05:06:23.460049",
     "status": "completed"
    },
    "tags": []
   },
   "outputs": [
    {
     "name": "stdout",
     "output_type": "stream",
     "text": [
      "    Actual      Predicted\n",
      "27  112635  115790.210113\n",
      "15   67938   71498.278095\n",
      "23  113812  102596.868661\n",
      "17   83088   75267.804224\n",
      "8    64445   55477.792045\n",
      "9    57189   60189.699707\n"
     ]
    }
   ],
   "source": [
    "print(output)"
   ]
  },
  {
   "cell_type": "code",
   "execution_count": null,
   "id": "262543e4",
   "metadata": {
    "papermill": {
     "duration": 0.007453,
     "end_time": "2024-11-05T05:06:23.494348",
     "exception": false,
     "start_time": "2024-11-05T05:06:23.486895",
     "status": "completed"
    },
    "tags": []
   },
   "outputs": [],
   "source": []
  }
 ],
 "metadata": {
  "kaggle": {
   "accelerator": "none",
   "dataSources": [
    {
     "datasetId": 5998166,
     "sourceId": 9789135,
     "sourceType": "datasetVersion"
    }
   ],
   "dockerImageVersionId": 30786,
   "isGpuEnabled": false,
   "isInternetEnabled": true,
   "language": "python",
   "sourceType": "notebook"
  },
  "kernelspec": {
   "display_name": "Python 3",
   "language": "python",
   "name": "python3"
  },
  "language_info": {
   "codemirror_mode": {
    "name": "ipython",
    "version": 3
   },
   "file_extension": ".py",
   "mimetype": "text/x-python",
   "name": "python",
   "nbconvert_exporter": "python",
   "pygments_lexer": "ipython3",
   "version": "3.10.14"
  },
  "papermill": {
   "default_parameters": {},
   "duration": 6.743856,
   "end_time": "2024-11-05T05:06:24.122289",
   "environment_variables": {},
   "exception": null,
   "input_path": "__notebook__.ipynb",
   "output_path": "__notebook__.ipynb",
   "parameters": {},
   "start_time": "2024-11-05T05:06:17.378433",
   "version": "2.6.0"
  }
 },
 "nbformat": 4,
 "nbformat_minor": 5
}
